{
 "cells": [
  {
   "cell_type": "code",
   "execution_count": null,
   "metadata": {},
   "outputs": [],
   "source": [
    "!pip install matplotlib pandas imageio tqdm"
   ]
  },
  {
   "cell_type": "code",
   "execution_count": null,
   "metadata": {},
   "outputs": [],
   "source": [
    "import cv2\n",
    "import json\n",
    "from IPython.display import clear_output, display"
   ]
  },
  {
   "cell_type": "code",
   "execution_count": null,
   "metadata": {},
   "outputs": [],
   "source": [
    "from pathlib import Path\n",
    "import time\n",
    "import matplotlib.pyplot as plt\n",
    "import pandas as pd\n",
    "import imageio\n",
    "import tqdm\n",
    "from PIL import Image\n",
    "\n",
    "%matplotlib inline"
   ]
  },
  {
   "cell_type": "markdown",
   "metadata": {},
   "source": [
    "## Download"
   ]
  },
  {
   "cell_type": "markdown",
   "metadata": {},
   "source": [
    "youtube-dl --rm-cache-dir\n",
    "\n",
    "youtube-dl -f bestvideo https://youtu.be/Fkadv0VnZkI\n",
    "\n",
    "youtube-dl -f bestvideo https://www.youtube.com/playlist?list=PLAPUEAObdbMb747QUFsjQ2e9MPz1FkDnQ\n",
    "\n",
    "youtube-dl -f bestvideo https://www.youtube.com/playlist?list=PLAPUEAObdbMaBtaElCDD3XD4hWO631ihN"
   ]
  },
  {
   "cell_type": "markdown",
   "metadata": {},
   "source": [
    "## Preprocess"
   ]
  },
  {
   "cell_type": "markdown",
   "metadata": {},
   "source": [
    "ffmpeg -i video1.webm -r 1 second_iteration/%06d_img.jpg"
   ]
  },
  {
   "cell_type": "code",
   "execution_count": null,
   "metadata": {},
   "outputs": [],
   "source": [
    "videos_path = Path('../sport_data/')"
   ]
  },
  {
   "cell_type": "code",
   "execution_count": null,
   "metadata": {},
   "outputs": [],
   "source": [
    "videos_suffixes = [n.suffix for n in videos_path.iterdir()]"
   ]
  },
  {
   "cell_type": "code",
   "execution_count": null,
   "metadata": {},
   "outputs": [],
   "source": [
    "pd.Series.value_counts(videos_suffixes)"
   ]
  },
  {
   "cell_type": "code",
   "execution_count": null,
   "metadata": {},
   "outputs": [],
   "source": [
    "command = ''\n",
    "for i, p in enumerate(videos_path.iterdir()):\n",
    "    if p.suffix in ['.mp4', '.webm']:\n",
    "        command += f'ffmpeg -i \"{p.name}\" -r 10 second_iteration/vid_{i:02}_%05d.jpg; '"
   ]
  },
  {
   "cell_type": "code",
   "execution_count": null,
   "metadata": {},
   "outputs": [],
   "source": [
    "# command"
   ]
  },
  {
   "cell_type": "markdown",
   "metadata": {},
   "source": [
    "## Raw images "
   ]
  },
  {
   "cell_type": "code",
   "execution_count": null,
   "metadata": {},
   "outputs": [],
   "source": [
    "dataset_path = Path('../sport_data/second_iteration/')"
   ]
  },
  {
   "cell_type": "code",
   "execution_count": null,
   "metadata": {},
   "outputs": [],
   "source": [
    "suffixes = [n.suffix for n in dataset_path.iterdir()]"
   ]
  },
  {
   "cell_type": "code",
   "execution_count": null,
   "metadata": {},
   "outputs": [],
   "source": [
    "pd.Series.value_counts(suffixes)"
   ]
  },
  {
   "cell_type": "code",
   "execution_count": null,
   "metadata": {},
   "outputs": [],
   "source": [
    "for p in dataset_path.iterdir():\n",
    "    if p.suffix.lower() not in ['.jpg', '.png', '.jpeg']:\n",
    "        p.unlink()"
   ]
  },
  {
   "cell_type": "code",
   "execution_count": null,
   "metadata": {},
   "outputs": [],
   "source": [
    "for i in range(30):\n",
    "    print(i, len(list(dataset_path.glob(f'vid_{i:02}*'))))"
   ]
  },
  {
   "cell_type": "code",
   "execution_count": null,
   "metadata": {},
   "outputs": [],
   "source": [
    "images = []\n",
    "for p in sorted(list(dataset_path.glob('vid_04*')))[540:550]:\n",
    "    images.append(imageio.imread(p))"
   ]
  },
  {
   "cell_type": "code",
   "execution_count": null,
   "metadata": {},
   "outputs": [],
   "source": [
    "import numpy as np"
   ]
  },
  {
   "cell_type": "code",
   "execution_count": null,
   "metadata": {
    "scrolled": false
   },
   "outputs": [],
   "source": [
    "for i in range(len(images[-5:])):\n",
    "    plt.figure()\n",
    "    plt.imshow(images[i])"
   ]
  },
  {
   "cell_type": "markdown",
   "metadata": {},
   "source": [
    "## Run pose detection"
   ]
  },
  {
   "cell_type": "markdown",
   "metadata": {},
   "source": [
    "See instructions in ./deep-high-resolution-net.pytorch/demo/run.sh"
   ]
  },
  {
   "cell_type": "markdown",
   "metadata": {},
   "source": [
    "## Pose detection results"
   ]
  },
  {
   "cell_type": "code",
   "execution_count": null,
   "metadata": {},
   "outputs": [],
   "source": [
    "bboxes = Path('../sport/deep-high-resolution-net.pytorch/demo/output2/boxes/')\n",
    "poses = Path('../sport/deep-high-resolution-net.pytorch/demo/output2/poses/')"
   ]
  },
  {
   "cell_type": "code",
   "execution_count": null,
   "metadata": {
    "scrolled": false
   },
   "outputs": [],
   "source": [
    "for b in list(bboxes.iterdir())[:5]:\n",
    "    plt.figure()\n",
    "    plt.imshow(plt.imread(b))"
   ]
  },
  {
   "cell_type": "code",
   "execution_count": null,
   "metadata": {
    "scrolled": false
   },
   "outputs": [],
   "source": [
    "for b in list(poses.iterdir())[:5]:\n",
    "    plt.figure()\n",
    "    plt.imshow(plt.imread(b))"
   ]
  },
  {
   "cell_type": "markdown",
   "metadata": {},
   "source": [
    "## Pose detection coords processing"
   ]
  },
  {
   "cell_type": "code",
   "execution_count": null,
   "metadata": {},
   "outputs": [],
   "source": [
    "poses_df = pd.read_csv('../sport/deep-high-resolution-net.pytorch/demo/output2/pose-data.csv',\n",
    "                       encoding = \"ISO-8859-1\")"
   ]
  },
  {
   "cell_type": "code",
   "execution_count": null,
   "metadata": {},
   "outputs": [],
   "source": [
    "poses_df.box_top_left_x = poses_df.box_top_left_x.astype(int)\n",
    "poses_df.box_top_left_y = poses_df.box_top_left_y.astype(int)\n",
    "poses_df.box_bottom_right_x = poses_df.box_bottom_right_x.astype(int)\n",
    "poses_df.box_bottom_right_y = poses_df.box_bottom_right_y.astype(int)"
   ]
  },
  {
   "cell_type": "code",
   "execution_count": null,
   "metadata": {},
   "outputs": [],
   "source": [
    "def extract_from_row(row):\n",
    "    box_left = (row.box_top_left_x, row.box_top_left_y)\n",
    "    box_right = (row.box_bottom_right_x, row.box_bottom_right_y)\n",
    "\n",
    "    foot_left = (row.nose_x, row.nose_y)\n",
    "    knee_left = (row.left_eye_x, row.left_eye_y)\n",
    "    hip_left = (row.right_eye_x, row.right_eye_y)\n",
    "    hip_right = (row.left_ear_x, row.left_ear_y)\n",
    "    knee_right = (row.right_ear_x, row.right_ear_y)\n",
    "    hip_center = (row.right_shoulder_x, row.right_shoulder_y)\n",
    "    top_center = (row.left_elbow_x, row.left_elbow_y)\n",
    "    wrist_left = (row.right_wrist_x, row.right_wrist_y)\n",
    "    shoulder_left = (row.right_hip_x, row.right_hip_y)\n",
    "    shoulder_right = (row.left_knee_x, row.left_knee_y)\n",
    "    wrist_right = (row.left_ankle_x, row.left_ankle_y)\n",
    "    head_top = (row.left_wrist_x, row.left_wrist_y)\n",
    "    head_bottom = (row.right_elbow_x, row.right_elbow_y)\n",
    "    foot_right = (row.left_shoulder_x, row.left_shoulder_y)\n",
    "    elbow_left = (row.left_hip_x, row.left_hip_y)\n",
    "    elbow_right = (row.right_knee_x, row.right_knee_y)\n",
    "    \n",
    "    return box_left, box_right, foot_left, knee_left, hip_left, hip_right, \\\n",
    "           knee_right, hip_center, top_center, wrist_left, shoulder_left, \\\n",
    "           shoulder_right, wrist_right, head_top, head_bottom, foot_right, \\\n",
    "           elbow_left, elbow_right"
   ]
  },
  {
   "cell_type": "code",
   "execution_count": null,
   "metadata": {},
   "outputs": [],
   "source": [
    "def draw_on_image(row, img):\n",
    "    box_left, box_right, foot_left, knee_left, hip_left, hip_right, \\\n",
    "           knee_right, hip_center, top_center, wrist_left, shoulder_left, \\\n",
    "           shoulder_right, wrist_right, head_top, head_bottom, foot_right, \\\n",
    "           elbow_left, elbow_right = extract_from_row(row)\n",
    "\n",
    "    img = cv2.rectangle(img, box_left, box_right, color=(0, 255, 0), thickness=3)\n",
    "\n",
    "    img = cv2.circle(img, foot_left, 4, (255, 0, 0), 2)\n",
    "    img = cv2.putText(img, 'ft_L', foot_left, cv2.FONT_HERSHEY_SIMPLEX, 0.7, 255, thickness=2)\n",
    "    img = cv2.circle(img, knee_left, 4, (255, 0, 0), 2)\n",
    "    img = cv2.putText(img, 'kn_L', knee_left, cv2.FONT_HERSHEY_SIMPLEX, 0.7, 255, thickness=2)\n",
    "    img = cv2.circle(img, knee_right, 4, (255, 0, 0), 2)\n",
    "    img = cv2.putText(img, 'kn_R', knee_right, cv2.FONT_HERSHEY_SIMPLEX, 0.7, 255, thickness=2)\n",
    "    img = cv2.circle(img, hip_left, 4, (255, 0, 0), 2)\n",
    "    img = cv2.putText(img, 'hip_L', hip_left, cv2.FONT_HERSHEY_SIMPLEX, 0.7, 255, thickness=2)\n",
    "    img = cv2.circle(img, hip_right, 4, (255, 0, 0), 2)\n",
    "    img = cv2.putText(img, 'hip_R', hip_right, cv2.FONT_HERSHEY_SIMPLEX, 0.7, 255, thickness=2)\n",
    "    img = cv2.circle(img, hip_center, 4, (255, 0, 0), 2)\n",
    "    img = cv2.putText(img, 'hip', hip_center, cv2.FONT_HERSHEY_SIMPLEX, 0.7, 255, thickness=2)\n",
    "    img = cv2.circle(img, top_center, 4, (255, 0, 0), 2)\n",
    "    img = cv2.putText(img, 'top_C', top_center, cv2.FONT_HERSHEY_SIMPLEX, 0.7, 255, thickness=2)\n",
    "    img = cv2.circle(img, wrist_left, 4, (255, 0, 0), 2)\n",
    "    img = cv2.putText(img, 'wr_L', wrist_left, cv2.FONT_HERSHEY_SIMPLEX, 0.7, 255, thickness=2)\n",
    "    img = cv2.circle(img, shoulder_left, 4, (255, 0, 0), 2)\n",
    "    img = cv2.putText(img, 'shdr_L', shoulder_left, cv2.FONT_HERSHEY_SIMPLEX, 0.7, 255, thickness=2)\n",
    "    img = cv2.circle(img, shoulder_right, 4, (255, 0, 0), 2)\n",
    "    img = cv2.putText(img, 'shdr_R', shoulder_right, cv2.FONT_HERSHEY_SIMPLEX, 0.7, 255, thickness=2)\n",
    "    img = cv2.circle(img, wrist_right, 4, (255, 0, 0), 2)\n",
    "    img = cv2.putText(img, 'wr_R', wrist_right, cv2.FONT_HERSHEY_SIMPLEX, 0.7, 255, thickness=2)\n",
    "    img = cv2.circle(img, head_top, 4, (255, 0, 0), 2)\n",
    "    img = cv2.putText(img, 'head_T', head_top, cv2.FONT_HERSHEY_SIMPLEX, 0.7, 255, thickness=2)\n",
    "    img = cv2.circle(img, head_bottom, 4, (255, 0, 0), 2)\n",
    "    img = cv2.putText(img, 'head_B', head_bottom, cv2.FONT_HERSHEY_SIMPLEX, 0.7, 255, thickness=2)\n",
    "    img = cv2.circle(img, foot_right, 4, (255, 0, 0), 2)\n",
    "    img = cv2.putText(img, 'ft_R', foot_right, cv2.FONT_HERSHEY_SIMPLEX, 0.7, 255, thickness=2)\n",
    "    img = cv2.circle(img, elbow_left, 4, (255, 0, 0), 2)\n",
    "    img = cv2.putText(img, 'elb_L', elbow_left, cv2.FONT_HERSHEY_SIMPLEX, 0.7, 255, thickness=2)\n",
    "    img = cv2.circle(img, elbow_right, 4, (255, 0, 0), 2)\n",
    "    img = cv2.putText(img, 'elb_R', elbow_right, cv2.FONT_HERSHEY_SIMPLEX, 0.7, 255, thickness=2)\n",
    "    return img"
   ]
  },
  {
   "cell_type": "code",
   "execution_count": null,
   "metadata": {},
   "outputs": [],
   "source": [
    "def extract_from_image(row, img):\n",
    "    box_left, box_right, foot_left, knee_left, hip_left, hip_right, \\\n",
    "           knee_right, hip_center, top_center, wrist_left, shoulder_left, \\\n",
    "           shoulder_right, wrist_right, head_top, head_bottom, foot_right, \\\n",
    "           elbow_left, elbow_right = extract_from_row(row)\n",
    "    box_right = (box_right[0], (knee_left[1] + knee_right[1]) // 2)\n",
    "    return img[box_left[1]: box_right[1], box_left[0]: box_right[0], :]"
   ]
  },
  {
   "cell_type": "markdown",
   "metadata": {},
   "source": [
    "## Extract usefull crops from images"
   ]
  },
  {
   "cell_type": "code",
   "execution_count": null,
   "metadata": {},
   "outputs": [],
   "source": [
    "def map_coord_to_crop(coord, box_l, box_r):\n",
    "    x = min(coord[0] - box_l[0], box_r[0])\n",
    "    y = min(coord[1] - box_l[1], box_r[1])\n",
    "    return (x, y)\n",
    "\n",
    "def extract_from_image_with_points(row, img):\n",
    "    box_left, box_right, foot_left, knee_left, hip_left, hip_right, \\\n",
    "           knee_right, hip_center, top_center, wrist_left, shoulder_left, \\\n",
    "           shoulder_right, wrist_right, head_top, head_bottom, foot_right, \\\n",
    "           elbow_left, elbow_right = extract_from_row(row)\n",
    "    box_right = (box_right[0], (knee_left[1] + knee_right[1]) // 2)\n",
    "    \n",
    "    hip_left = map_coord_to_crop(hip_left, box_left, box_right)\n",
    "    hip_right = map_coord_to_crop(hip_right, box_left, box_right)\n",
    "    shoulder_left = map_coord_to_crop(shoulder_left, box_left, box_right)\n",
    "    shoulder_right = map_coord_to_crop(shoulder_right, box_left, box_right)\n",
    "    head_bottom = map_coord_to_crop(head_bottom, box_left, box_right)\n",
    "    knee_left = map_coord_to_crop(knee_left, box_left, box_right)\n",
    "    knee_right = map_coord_to_crop(knee_right, box_left, box_right)\n",
    "    top_center = map_coord_to_crop(top_center, box_left, box_right)\n",
    "    wrist_left = map_coord_to_crop(wrist_left, box_left, box_right)\n",
    "    wrist_right = map_coord_to_crop(wrist_right, box_left, box_right)\n",
    "    elbow_left = map_coord_to_crop(elbow_left, box_left, box_right)\n",
    "    elbow_right = map_coord_to_crop(elbow_right, box_left, box_right)\n",
    "\n",
    "    \n",
    "    return img[box_left[1]: box_right[1], box_left[0]: box_right[0], :],\\\n",
    "        (hip_left, hip_right, shoulder_left, shoulder_right, head_bottom,\n",
    "         knee_left, knee_right, top_center, wrist_left, wrist_right,\n",
    "         elbow_left, elbow_right)"
   ]
  },
  {
   "cell_type": "markdown",
   "metadata": {},
   "source": [
    "## Resize and pad of crops"
   ]
  },
  {
   "cell_type": "code",
   "execution_count": null,
   "metadata": {},
   "outputs": [],
   "source": [
    "def image_resize(image, keypoints, width = None, height = None, inter = cv2.INTER_AREA):\n",
    "    # initialize the dimensions of the image to be resized and\n",
    "    # grab the image size\n",
    "    dim = None\n",
    "    (h, w) = image.shape[:2]\n",
    "\n",
    "    # if both the width and height are None, then return the\n",
    "    # original image\n",
    "    if width is None and height is None:\n",
    "        return image\n",
    "\n",
    "    # check to see if the width is None\n",
    "    if width is None:\n",
    "        # calculate the ratio of the height and construct the\n",
    "        # dimensions\n",
    "        r = height / float(h)\n",
    "        new_w, new_h = (int(w * r), height)\n",
    "\n",
    "    # otherwise, the height is None\n",
    "    else:\n",
    "        # calculate the ratio of the width and construct the\n",
    "        # dimensions\n",
    "        r = width / float(w)\n",
    "        new_w, new_h = (width, int(h * r))\n",
    "\n",
    "    # resize the image\n",
    "    resized_image = cv2.resize(image.copy(), (new_w, new_h), interpolation = inter)\n",
    "    \n",
    "    resized_keypoints = []\n",
    "    for k in keypoints:\n",
    "        resized_keypoints.append((int(k[0] * (new_w / w)), int(k[1] * (new_h / h))))\n",
    "    # return the resized image\n",
    "    return resized_image, resized_keypoints\n",
    "\n",
    "def image_pad(image, keypoints, width=None, height=None):\n",
    "    (h, w, c) = image.shape\n",
    "    if width is None and height is None:\n",
    "        return image\n",
    "    \n",
    "    if width is None:\n",
    "        raise NotImplementedError()\n",
    "    else:\n",
    "        pad_image = np.zeros((h, width, c), dtype=np.uint8)\n",
    "        pad_keypoints = []\n",
    "        \n",
    "        if w < width:\n",
    "            pad_size = width - w\n",
    "            pad_left = pad_size // 2\n",
    "            pad_right = pad_left + w\n",
    "            pad_image[:, pad_left:pad_right, :] = image.copy()\n",
    "            \n",
    "            for k in keypoints:\n",
    "                pad_keypoints.append((k[0] + pad_left, k[1]))\n",
    "        else:\n",
    "            crop_size = w - width\n",
    "            crop_left = crop_size // 2\n",
    "            crop_right = crop_left + width\n",
    "            pad_image = image[:, crop_left:crop_right, :].copy()\n",
    "            \n",
    "            for k in keypoints:\n",
    "                pad_keypoints.append((k[0] - crop_left, k[1]))\n",
    "    \n",
    "    return pad_image, pad_keypoints\n",
    "\n",
    "def resize_pad(image, keypoints, width=None, height=None):\n",
    "    image = image[:, :, :3]\n",
    "    if image.dtype == np.float32:\n",
    "        image = (image * 255).astype(np.uint8)\n",
    "        \n",
    "    res_image, res_keyp = image_resize(image, keypoints, height=height)\n",
    "    pad_image, pad_keyp = image_pad(res_image, res_keyp, width=width)\n",
    "    return pad_image, pad_keyp"
   ]
  },
  {
   "cell_type": "code",
   "execution_count": null,
   "metadata": {},
   "outputs": [],
   "source": [
    "def mean_kp(a, b):\n",
    "    return (a[0] + b[0]) // 2, (a[1] + b[1]) // 2\n",
    "\n",
    "def make_pose_image(image, keyp):\n",
    "    h, w = image.shape[:2]\n",
    "    image_pose = np.zeros((h, w))\n",
    "    \n",
    "    hip_center = mean_kp(keyp[0], keyp[1])\n",
    "    shoulder_center = mean_kp(keyp[2], keyp[3])\n",
    "    \n",
    "    colors = np.linspace(0, 255, 11)[1:]\n",
    "    thickness = 15\n",
    "#     import pdb;pdb.set_trace()\n",
    "    image_pose = cv2.line(image_pose, keyp[0], keyp[1], int(colors[0]), thickness) # hip line\n",
    "    image_pose = cv2.line(image_pose, keyp[2], keyp[3], int(colors[1]), thickness) # shoulder line\n",
    "    image_pose = cv2.line(image_pose, hip_center, shoulder_center, int(colors[2]), thickness) # shoulder hip line\n",
    "    image_pose = cv2.line(image_pose, keyp[4], shoulder_center, int(colors[3]), thickness) # shoulder head line\n",
    "    image_pose = cv2.line(image_pose, keyp[0], keyp[5], int(colors[4]), thickness) # left knee line\n",
    "    image_pose = cv2.line(image_pose, keyp[1], keyp[6], int(colors[5]), thickness) # right knee line\n",
    "    image_pose = cv2.line(image_pose, keyp[2], keyp[10], int(colors[6]), thickness) # left elbow line\n",
    "    image_pose = cv2.line(image_pose, keyp[3], keyp[11], int(colors[7]), thickness) # right elbow line\n",
    "    image_pose = cv2.line(image_pose, keyp[10], keyp[8], int(colors[8]), thickness) # left wrist line\n",
    "    image_pose = cv2.line(image_pose, keyp[11], keyp[9], int(colors[9]), thickness) # right wrist line\n",
    "    \n",
    "#     image_pose = cv2.resize(image_pose, (64, 64))\n",
    "\n",
    "    keyp_features = [[x[0] / w, x[1] / h] for x in keyp]\n",
    "    keyp_features = np.array(keyp_features).ravel()\n",
    "    \n",
    "    return image_pose, keyp_features"
   ]
  },
  {
   "cell_type": "code",
   "execution_count": null,
   "metadata": {},
   "outputs": [],
   "source": [
    "small_images = 0\n",
    "target_width, target_height = 512, 512\n",
    "# mean_keypoints = np.loadtxt('mean_keypoints.txt', dtype=np.int32) # from EDA.ipynb\n",
    "all_features = []\n",
    "idx = 0\n",
    "\n",
    "for i in tqdm.tqdm(range(len(poses_df))):\n",
    "    fname = poses_df.iloc[i].fname\n",
    "    box_num = poses_df.iloc[i].box_num\n",
    "    name = fname.split('/')[-1]\n",
    "\n",
    "    try:\n",
    "        img = plt.imread('../sport_data/second_iteration/' + name)\n",
    "    except:\n",
    "        print('Error with opening', name)\n",
    "        continue\n",
    "\n",
    "    row = poses_df.iloc[i]\n",
    "    img, keypoints = extract_from_image_with_points(row, img)\n",
    "    \n",
    "    \n",
    "    if img.shape[0] < 400:\n",
    "        small_images += 1\n",
    "        continue\n",
    "        \n",
    "    pad_image, pad_keyp = resize_pad(img, keypoints, target_width, target_height)\n",
    "    pos_image, features = make_pose_image(pad_image, pad_keyp)\n",
    "    \n",
    "    all_features.append(features)\n",
    "    imageio.imsave(f'stylegan2/youtube_512_conditional/img_{idx}.jpg', pad_image)\n",
    "    imageio.imsave(f'stylegan2/youtube_512_conditional/label_{idx}.jpg', pos_image.astype(np.uint8))\n",
    "    idx += 1\n",
    "    \n",
    "#     if idx > 10:\n",
    "#         break\n",
    "\n",
    "all_features = np.vstack(all_features)\n",
    "np.save('stylegan2/youtube_512_conditional.npy', all_features)"
   ]
  },
  {
   "cell_type": "code",
   "execution_count": null,
   "metadata": {},
   "outputs": [],
   "source": [
    "!stylegan2/youtube_512_conditional/ | wc"
   ]
  },
  {
   "cell_type": "code",
   "execution_count": null,
   "metadata": {},
   "outputs": [],
   "source": [
    "plt.imshow(pad_image)"
   ]
  },
  {
   "cell_type": "code",
   "execution_count": null,
   "metadata": {},
   "outputs": [],
   "source": [
    "pos_image, features = make_pose_image(pad_image, pad_keyp)"
   ]
  },
  {
   "cell_type": "code",
   "execution_count": null,
   "metadata": {},
   "outputs": [],
   "source": [
    "plt.plot(features)"
   ]
  },
  {
   "cell_type": "code",
   "execution_count": null,
   "metadata": {
    "scrolled": true
   },
   "outputs": [],
   "source": [
    "plt.imshow(pos_image)\n",
    "plt.gray()"
   ]
  },
  {
   "cell_type": "markdown",
   "metadata": {},
   "source": [
    "---"
   ]
  },
  {
   "cell_type": "code",
   "execution_count": null,
   "metadata": {},
   "outputs": [],
   "source": [
    "import sys\n",
    "sys.path.insert(0, '../sport/stylegan2/')"
   ]
  },
  {
   "cell_type": "code",
   "execution_count": null,
   "metadata": {},
   "outputs": [],
   "source": [
    "from dataset_tool import TFRecordExporter"
   ]
  },
  {
   "cell_type": "code",
   "execution_count": null,
   "metadata": {},
   "outputs": [],
   "source": [
    "tfrecord_dir = '../sport/stylegan2/datasets/youtube_keypoints/'\n",
    "count = len(all_features)\n",
    "\n",
    "with TFRecordExporter(tfrecord_dir, count) as tfr:\n",
    "    order = tfr.choose_shuffled_order()\n",
    "    for idx in tqdm.tqdm(range(order.size)):\n",
    "        fname = f'stylegan2/youtube_512_conditional/img_{order[idx]}.jpg'\n",
    "        img = plt.imread(fname)\n",
    "        img = np.transpose(np.array(img), (2, 0, 1))\n",
    "        tfr.add_image(np.array(img))\n",
    "    tfr.add_labels(all_features[order])"
   ]
  },
  {
   "cell_type": "code",
   "execution_count": null,
   "metadata": {},
   "outputs": [],
   "source": [
    "idx = 5\n",
    "fname = f'stylegan2/youtube_512_conditional/img_{order[idx]}.jpg'\n",
    "img = plt.imread(fname)"
   ]
  },
  {
   "cell_type": "code",
   "execution_count": null,
   "metadata": {},
   "outputs": [],
   "source": [
    "plt.imshow(img)"
   ]
  },
  {
   "cell_type": "code",
   "execution_count": null,
   "metadata": {},
   "outputs": [],
   "source": [
    "for i in range(len(all_features[order][idx]) // 2):\n",
    "    p = int(all_features[order][idx][i * 2] * 512), int(all_features[order][idx][i * 2 + 1] * 512)\n",
    "    img = cv2.circle(img, p, 4, (255, 0, 0), 2)"
   ]
  },
  {
   "cell_type": "code",
   "execution_count": null,
   "metadata": {},
   "outputs": [],
   "source": [
    "plt.imshow(img)"
   ]
  },
  {
   "cell_type": "code",
   "execution_count": null,
   "metadata": {},
   "outputs": [],
   "source": [
    "plt.plot(all_features[order][idx])"
   ]
  },
  {
   "cell_type": "markdown",
   "metadata": {},
   "source": [
    "## Extract separate person in separate video"
   ]
  },
  {
   "cell_type": "code",
   "execution_count": null,
   "metadata": {},
   "outputs": [],
   "source": [
    "one_person_df = poses_df[poses_df.fname.apply(lambda x: 'vid_10' in x) & (poses_df.box_num == 0)]\n",
    "one_person_df = one_person_df.sort_values('fname')"
   ]
  },
  {
   "cell_type": "code",
   "execution_count": null,
   "metadata": {},
   "outputs": [],
   "source": [
    "for i in range(50):\n",
    "    img = extract_from_image(one_person_df.iloc[i],\n",
    "                             plt.imread(dataset_path / one_person_df.iloc[i].fname.split('/')[-1]))\n",
    "    clear_output(True)\n",
    "    display(Image.fromarray(img).resize((128, 256)))\n",
    "    time.sleep(0.01)"
   ]
  },
  {
   "cell_type": "code",
   "execution_count": null,
   "metadata": {},
   "outputs": [],
   "source": [
    "target_width, target_height = 512, 512\n",
    "idx = 0\n",
    "pad_keyp_all = []\n",
    "\n",
    "for i in tqdm.tqdm(range(len(one_person_df))):\n",
    "    fname = one_person_df.iloc[i].fname\n",
    "    box_num = one_person_df.iloc[i].box_num\n",
    "    name = fname.split('/')[-1]\n",
    "\n",
    "    try:\n",
    "        img = plt.imread('../sport_data/second_iteration/' + name)\n",
    "    except:\n",
    "        print('Error with opening', name)\n",
    "        continue\n",
    "\n",
    "    row = one_person_df.iloc[i]\n",
    "    img, keypoints = extract_from_image_with_points(row, img)\n",
    "        \n",
    "    pad_image, pad_keyp = resize_pad(img, keypoints, target_width, target_height)\n",
    "    pos_image, features = make_pose_image(pad_image, pad_keyp)\n",
    "    pad_keyp_all.append(pad_keyp)\n",
    "\n",
    "    imageio.imsave(f'stylegan2/youtube_512_one_person/img_{idx}.jpg', pad_image)\n",
    "    imageio.imsave(f'stylegan2/youtube_512_one_person/label_{idx}.jpg', pos_image.astype(np.uint8))\n",
    "    idx += 1"
   ]
  },
  {
   "cell_type": "code",
   "execution_count": null,
   "metadata": {},
   "outputs": [],
   "source": [
    "pad_keyp_all = np.array(pad_keyp_all)\n",
    "mean_keyp = np.mean(pad_keyp_all, axis=0).astype(int)\n",
    "mean_keyp = [tuple(x) for x in mean_keyp]\n",
    "\n",
    "mean_keyp[8] = (mean_keyp[8][0], mean_keyp[8][1] + 100)\n",
    "mean_keyp[9] = (mean_keyp[9][0], mean_keyp[9][1] + 100)\n",
    "\n",
    "pos_image, features = make_pose_image(pad_image, mean_keyp)"
   ]
  },
  {
   "cell_type": "code",
   "execution_count": null,
   "metadata": {},
   "outputs": [],
   "source": [
    "plt.imshow(pos_image)"
   ]
  },
  {
   "cell_type": "code",
   "execution_count": null,
   "metadata": {},
   "outputs": [],
   "source": [
    "imageio.imsave(f'stylegan2/mean_pose_label.jpg', pos_image.astype(np.uint8))"
   ]
  },
  {
   "cell_type": "code",
   "execution_count": null,
   "metadata": {},
   "outputs": [],
   "source": []
  }
 ],
 "metadata": {
  "kernelspec": {
   "display_name": "Python 3",
   "language": "python",
   "name": "python3"
  },
  "language_info": {
   "codemirror_mode": {
    "name": "ipython",
    "version": 3
   },
   "file_extension": ".py",
   "mimetype": "text/x-python",
   "name": "python",
   "nbconvert_exporter": "python",
   "pygments_lexer": "ipython3",
   "version": "3.7.4"
  }
 },
 "nbformat": 4,
 "nbformat_minor": 2
}
